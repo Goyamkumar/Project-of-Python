{
 "cells": [
  {
   "attachments": {},
   "cell_type": "markdown",
   "metadata": {},
   "source": [
    "# Correct Spelling using Python"
   ]
  },
  {
   "attachments": {},
   "cell_type": "markdown",
   "metadata": {},
   "source": [
    "> using this we can check that word that had been type is correct or not<br>\n",
    "It is used in any application where users write content<br>\n",
    "for eg.in notepad you should have a feature that correct spelling of yours so that there would be<br>\n",
    "no mistake"
   ]
  },
  {
   "attachments": {},
   "cell_type": "markdown",
   "metadata": {},
   "source": [
    "### In python there is module call ****SpellChecker**** \n",
    "install in your python environment than used it"
   ]
  },
  {
   "cell_type": "code",
   "execution_count": 7,
   "metadata": {},
   "outputs": [
    {
     "name": "stdout",
     "output_type": "stream",
     "text": [
      "It is correct\n"
     ]
    }
   ],
   "source": [
    "from spellchecker import SpellChecker\n",
    "corrector = SpellChecker()\n",
    "\n",
    "word = input(\"Enter Your Word : \")\n",
    "if word in corrector:\n",
    "    print(\"It is correct\")\n",
    "else:\n",
    "    correct_word = corrector.correction(word) \n",
    "    print(\"It is Wrong. The correct word is \",correct_word)"
   ]
  }
 ],
 "metadata": {
  "kernelspec": {
   "display_name": "Python 3",
   "language": "python",
   "name": "python3"
  },
  "language_info": {
   "codemirror_mode": {
    "name": "ipython",
    "version": 3
   },
   "file_extension": ".py",
   "mimetype": "text/x-python",
   "name": "python",
   "nbconvert_exporter": "python",
   "pygments_lexer": "ipython3",
   "version": "3.11.1"
  },
  "orig_nbformat": 4
 },
 "nbformat": 4,
 "nbformat_minor": 2
}
